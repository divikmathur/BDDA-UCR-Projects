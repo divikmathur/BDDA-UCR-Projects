{
 "cells": [
  {
   "cell_type": "markdown",
   "metadata": {},
   "source": [
    "### BDDA Assignment: Divik Mathur - 015031"
   ]
  },
  {
   "cell_type": "markdown",
   "metadata": {},
   "source": [
    "## Prediction of Medical Cost using insurance.csv dataset"
   ]
  },
  {
   "cell_type": "markdown",
   "metadata": {},
   "source": [
    "### Command to copy csv file from local system to hdfs "
   ]
  },
  {
   "cell_type": "markdown",
   "metadata": {},
   "source": [
    "hdfs dfs -copyFromLocal /home/ashok/insurance.csv"
   ]
  },
  {
   "cell_type": "markdown",
   "metadata": {},
   "source": [
    "### Project Details"
   ]
  },
  {
   "cell_type": "markdown",
   "metadata": {},
   "source": [
    "Business Problem - To predict the medical expenses using the personal details of the patient such as age, sex, bmi, children, smoker, region and charges.\n",
    "\n",
    "Age - Age of primary beneficiary\n",
    "Sex - Gender (male/female)\n",
    "bmi - Body mass index\n",
    "Children - Number of children\n",
    "Smoker - Smoking\n",
    "Region - Beneficiary's residential area (northeast, southeast, southwest, northwest)\n",
    "Charges - Individual medical costs billed by health insurance"
   ]
  },
  {
   "cell_type": "markdown",
   "metadata": {},
   "source": [
    "### Importing necessary libraries and reading the csv file"
   ]
  },
  {
   "cell_type": "code",
   "execution_count": 1,
   "metadata": {},
   "outputs": [],
   "source": [
    "#Importing libraries\n",
    "\n",
    "import numpy as np\n",
    "\n",
    "from pyspark.ml.feature import StringIndexer, OneHotEncoder\n",
    "\n",
    "from pyspark.ml.feature import VectorAssembler\n",
    "from pyspark.ml.feature import MinMaxScaler, StandardScaler\n",
    "from pyspark.ml import Pipeline"
   ]
  },
  {
   "cell_type": "code",
   "execution_count": 11,
   "metadata": {},
   "outputs": [],
   "source": [
    "from pyspark.ml.regression import LinearRegression\n",
    "\n",
    "from pyspark.ml.tuning import ParamGridBuilder, CrossValidator\n",
    "\n",
    "import time"
   ]
  },
  {
   "cell_type": "code",
   "execution_count": 5,
   "metadata": {},
   "outputs": [],
   "source": [
    "#Reading the file\n",
    "\n",
    "df=spark.read.csv(\"insurance.csv\", sep=\",\", header=True, inferSchema=True)"
   ]
  },
  {
   "cell_type": "markdown",
   "metadata": {},
   "source": [
    "### About the data"
   ]
  },
  {
   "cell_type": "code",
   "execution_count": 6,
   "metadata": {},
   "outputs": [
    {
     "name": "stdout",
     "output_type": "stream",
     "text": [
      "+---+------+------+--------+------+---------+-----------+\n",
      "|age|   sex|   bmi|children|smoker|   region|    charges|\n",
      "+---+------+------+--------+------+---------+-----------+\n",
      "| 19|female|  27.9|       0|   yes|southwest|  16884.924|\n",
      "| 18|  male| 33.77|       1|    no|southeast|  1725.5523|\n",
      "| 28|  male|  33.0|       3|    no|southeast|   4449.462|\n",
      "| 33|  male|22.705|       0|    no|northwest|21984.47061|\n",
      "| 32|  male| 28.88|       0|    no|northwest|  3866.8552|\n",
      "| 31|female| 25.74|       0|    no|southeast|  3756.6216|\n",
      "| 46|female| 33.44|       1|    no|southeast|  8240.5896|\n",
      "| 37|female| 27.74|       3|    no|northwest|  7281.5056|\n",
      "| 37|  male| 29.83|       2|    no|northeast|  6406.4107|\n",
      "| 60|female| 25.84|       0|    no|northwest|28923.13692|\n",
      "| 25|  male| 26.22|       0|    no|northeast|  2721.3208|\n",
      "| 62|female| 26.29|       0|   yes|southeast| 27808.7251|\n",
      "| 23|  male|  34.4|       0|    no|southwest|   1826.843|\n",
      "| 56|female| 39.82|       0|    no|southeast| 11090.7178|\n",
      "| 27|  male| 42.13|       0|   yes|southeast| 39611.7577|\n",
      "| 19|  male|  24.6|       1|    no|southwest|   1837.237|\n",
      "| 52|female| 30.78|       1|    no|northeast| 10797.3362|\n",
      "| 23|  male|23.845|       0|    no|northeast| 2395.17155|\n",
      "| 56|  male|  40.3|       0|    no|southwest|  10602.385|\n",
      "| 30|  male|  35.3|       0|   yes|southwest|  36837.467|\n",
      "+---+------+------+--------+------+---------+-----------+\n",
      "only showing top 20 rows\n",
      "\n"
     ]
    }
   ],
   "source": [
    "df.show()"
   ]
  },
  {
   "cell_type": "code",
   "execution_count": 7,
   "metadata": {},
   "outputs": [
    {
     "data": {
      "text/plain": [
       "['age', 'sex', 'bmi', 'children', 'smoker', 'region', 'charges']"
      ]
     },
     "execution_count": 7,
     "metadata": {},
     "output_type": "execute_result"
    }
   ],
   "source": [
    "df.columns"
   ]
  },
  {
   "cell_type": "code",
   "execution_count": 8,
   "metadata": {},
   "outputs": [
    {
     "name": "stdout",
     "output_type": "stream",
     "text": [
      "root\n",
      " |-- age: integer (nullable = true)\n",
      " |-- sex: string (nullable = true)\n",
      " |-- bmi: double (nullable = true)\n",
      " |-- children: integer (nullable = true)\n",
      " |-- smoker: string (nullable = true)\n",
      " |-- region: string (nullable = true)\n",
      " |-- charges: double (nullable = true)\n",
      "\n"
     ]
    }
   ],
   "source": [
    "df.printSchema()"
   ]
  },
  {
   "cell_type": "code",
   "execution_count": 9,
   "metadata": {},
   "outputs": [
    {
     "name": "stdout",
     "output_type": "stream",
     "text": [
      "+-------+------------------+------+------------------+-----------------+------+---------+------------------+\n",
      "|summary|               age|   sex|               bmi|         children|smoker|   region|           charges|\n",
      "+-------+------------------+------+------------------+-----------------+------+---------+------------------+\n",
      "|  count|              1338|  1338|              1338|             1338|  1338|     1338|              1338|\n",
      "|   mean| 39.20702541106129|  null|30.663396860986538|  1.0949177877429|  null|     null|13270.422265141257|\n",
      "| stddev|14.049960379216147|  null| 6.098186911679012|1.205492739781914|  null|     null|12110.011236693992|\n",
      "|    min|                18|female|             15.96|                0|    no|northeast|         1121.8739|\n",
      "|    max|                64|  male|             53.13|                5|   yes|southwest|       63770.42801|\n",
      "+-------+------------------+------+------------------+-----------------+------+---------+------------------+\n",
      "\n"
     ]
    }
   ],
   "source": [
    "df.describe().show()"
   ]
  },
  {
   "cell_type": "markdown",
   "metadata": {},
   "source": [
    "If we look at the data, it contains both the categorical and numerical columns. We are going to leave the numerical features alone and only change the categorical columns."
   ]
  },
  {
   "cell_type": "markdown",
   "metadata": {},
   "source": [
    "### Indexing categorical columns and creating Pipeline"
   ]
  },
  {
   "cell_type": "code",
   "execution_count": 13,
   "metadata": {},
   "outputs": [],
   "source": [
    "from pyspark.ml.feature import StringIndexer"
   ]
  },
  {
   "cell_type": "code",
   "execution_count": 15,
   "metadata": {},
   "outputs": [],
   "source": [
    "indexers = [StringIndexer(inputCol=column, outputCol=column+'_index').fit(df) for column in list(set(df.columns)-set(['bmi, children, charges']))]"
   ]
  },
  {
   "cell_type": "code",
   "execution_count": 18,
   "metadata": {},
   "outputs": [
    {
     "name": "stdout",
     "output_type": "stream",
     "text": [
      "+---+------+------+--------+------+---------+-----------+---------+--------------+------------+-------------+---------+---------+------------+\n",
      "|age|   sex|   bmi|children|smoker|   region|    charges|bmi_index|children_index|region_index|charges_index|age_index|sex_index|smoker_index|\n",
      "+---+------+------+--------+------+---------+-----------+---------+--------------+------------+-------------+---------+---------+------------+\n",
      "| 19|female|  27.9|       0|   yes|southwest|  16884.924|    412.0|           0.0|         2.0|        340.0|      1.0|      1.0|         1.0|\n",
      "| 18|  male| 33.77|       1|    no|southeast|  1725.5523|    283.0|           1.0|         0.0|        358.0|      0.0|      0.0|         0.0|\n",
      "| 28|  male|  33.0|       3|    no|southeast|   4449.462|     32.0|           3.0|         0.0|        891.0|     17.0|      0.0|         0.0|\n",
      "| 33|  male|22.705|       0|    no|northwest|21984.47061|    130.0|           0.0|         1.0|        500.0|     30.0|      0.0|         0.0|\n",
      "| 32|  male| 28.88|       0|    no|northwest|  3866.8552|      2.0|           0.0|         1.0|        783.0|     29.0|      0.0|         0.0|\n",
      "| 31|female| 25.74|       0|    no|southeast|  3756.6216|     77.0|           0.0|         0.0|        766.0|     23.0|      1.0|         0.0|\n",
      "| 46|female| 33.44|       1|    no|southeast|  8240.5896|    106.0|           1.0|         0.0|       1212.0|      4.0|      1.0|         0.0|\n",
      "| 37|female| 27.74|       3|    no|northwest|  7281.5056|     25.0|           3.0|         1.0|       1152.0|     37.0|      1.0|         0.0|\n",
      "| 37|  male| 29.83|       2|    no|northeast|  6406.4107|     27.0|           2.0|         3.0|       1085.0|     37.0|      0.0|         0.0|\n",
      "| 60|female| 25.84|       0|    no|northwest|28923.13692|     42.0|           0.0|         1.0|        641.0|     42.0|      1.0|         0.0|\n",
      "| 25|  male| 26.22|       0|    no|northeast|  2721.3208|     79.0|           0.0|         3.0|        612.0|     14.0|      0.0|         0.0|\n",
      "| 62|female| 26.29|       0|   yes|southeast| 27808.7251|    402.0|           0.0|         0.0|        625.0|     44.0|      1.0|         1.0|\n",
      "| 23|  male|  34.4|       0|    no|southwest|   1826.843|    111.0|           0.0|         2.0|        389.0|     12.0|      0.0|         0.0|\n",
      "| 56|female| 39.82|       0|    no|southeast| 11090.7178|    200.0|           0.0|         0.0|         68.0|     33.0|      1.0|         0.0|\n",
      "| 27|  male| 42.13|       0|   yes|southeast| 39611.7577|    123.0|           0.0|         0.0|        802.0|     16.0|      0.0|         1.0|\n",
      "| 19|  male|  24.6|       1|    no|southwest|   1837.237|    141.0|           1.0|         2.0|        393.0|      1.0|      0.0|         0.0|\n",
      "| 52|female| 30.78|       1|    no|northeast| 10797.3362|     57.0|           1.0|         3.0|         47.0|      9.0|      1.0|         0.0|\n",
      "| 23|  male|23.845|       0|    no|northeast| 2395.17155|    134.0|           0.0|         3.0|        543.0|     12.0|      0.0|         0.0|\n",
      "| 56|  male|  40.3|       0|    no|southwest|  10602.385|    501.0|           0.0|         2.0|         39.0|     33.0|      0.0|         0.0|\n",
      "| 30|  male|  35.3|       0|   yes|southwest|  36837.467|    113.0|           0.0|         2.0|        752.0|     22.0|      0.0|         1.0|\n",
      "+---+------+------+--------+------+---------+-----------+---------+--------------+------------+-------------+---------+---------+------------+\n",
      "only showing top 20 rows\n",
      "\n"
     ]
    }
   ],
   "source": [
    "#Creating pipeline\n",
    "\n",
    "pipeline = Pipeline(stages=indexers)\n",
    "df_r = pipeline.fit(df).transform(df)\n",
    "df_r.show()"
   ]
  },
  {
   "cell_type": "markdown",
   "metadata": {},
   "source": [
    "The resulting dataframe now contains both the categorical columns and the ones we have indexed. The Linear regression in Spark accepts a dataframe of a feature column and label column. Next we transform our dataset into a dataframe of features and labels. Our features column will contain all the features we are going to use and our label column will be the 'charges'."
   ]
  },
  {
   "cell_type": "markdown",
   "metadata": {},
   "source": [
    "### VectorAssembler"
   ]
  },
  {
   "cell_type": "code",
   "execution_count": 17,
   "metadata": {},
   "outputs": [],
   "source": [
    "from pyspark.mllib.regression import LabeledPoint\n",
    "from pyspark.ml.linalg import Vectors"
   ]
  },
  {
   "cell_type": "code",
   "execution_count": 30,
   "metadata": {},
   "outputs": [
    {
     "name": "stdout",
     "output_type": "stream",
     "text": [
      "+--------------------+-----------+\n",
      "|            features|    charges|\n",
      "+--------------------+-----------+\n",
      "|[19.0,1.0,27.9,0....|  16884.924|\n",
      "|[18.0,0.0,33.77,1...|  1725.5523|\n",
      "|[28.0,0.0,33.0,3....|   4449.462|\n",
      "|[33.0,0.0,22.705,...|21984.47061|\n",
      "|[32.0,0.0,28.88,0...|  3866.8552|\n",
      "+--------------------+-----------+\n",
      "only showing top 5 rows\n",
      "\n"
     ]
    }
   ],
   "source": [
    "assembler = VectorAssembler(\n",
    "    inputCols = ['age', 'sex_index', 'bmi', 'children', 'smoker_index', 'region_index'],\n",
    "    outputCol = 'features')\n",
    "output = assembler.transform(df_r)\n",
    "df_cleaned = output.select('features', 'charges')\n",
    "df_cleaned.show(5)"
   ]
  },
  {
   "cell_type": "markdown",
   "metadata": {},
   "source": [
    "Let's define the model and then fit our data."
   ]
  },
  {
   "cell_type": "markdown",
   "metadata": {},
   "source": [
    "### Linear Regression "
   ]
  },
  {
   "cell_type": "code",
   "execution_count": 31,
   "metadata": {},
   "outputs": [
    {
     "name": "stdout",
     "output_type": "stream",
     "text": [
      "+--------------------+-----------+------------------+\n",
      "|            features|    charges|        prediction|\n",
      "+--------------------+-----------+------------------+\n",
      "|[19.0,1.0,27.9,0....|  16884.924| 25802.49362767054|\n",
      "|[18.0,0.0,33.77,1...|  1725.5523| 3501.911813837087|\n",
      "|[28.0,0.0,33.0,3....|   4449.462| 6765.039296791185|\n",
      "|[33.0,0.0,22.705,...|21984.47061|3452.5446916117853|\n",
      "|[32.0,0.0,28.88,0...|  3866.8552| 5246.678399141309|\n",
      "|[31.0,1.0,25.74,0...|  3756.6216|3833.1199178268707|\n",
      "|[46.0,1.0,33.44,1...|  8240.5896|10721.234107062717|\n",
      "|[37.0,1.0,27.74,3...|  7281.5056| 7706.011707635729|\n",
      "|[37.0,0.0,29.83,2...|  6406.4107| 8283.617482287782|\n",
      "|[60.0,1.0,25.84,0...|28923.13692|11565.789119552786|\n",
      "|[25.0,0.0,26.22,0...|  2721.3208|3051.3627231821047|\n",
      "|[62.0,1.0,26.29,0...| 27808.7251|35834.504770083484|\n",
      "|[23.0,0.0,34.4,0....|   1826.843| 5010.487957030264|\n",
      "|[56.0,1.0,39.82,0...| 11090.7178| 14937.39364966564|\n",
      "|[27.0,0.0,42.13,0...| 39611.7577|31967.711145230838|\n",
      "|[19.0,0.0,24.6,1....|   1837.237|1200.7863883424561|\n",
      "|[52.0,1.0,30.78,1...| 10797.3362| 12111.98726646793|\n",
      "|[23.0,0.0,23.845,...| 2395.17155|1748.2591383561266|\n",
      "|[56.0,0.0,40.3,0....|  10602.385|15454.209014389091|\n",
      "|[30.0,0.0,35.3,0....|  36837.467| 30958.06295583579|\n",
      "+--------------------+-----------+------------------+\n",
      "only showing top 20 rows\n",
      "\n"
     ]
    }
   ],
   "source": [
    "#Defining and fitting the model\n",
    "\n",
    "from pyspark.ml.evaluation import RegressionEvaluator\n",
    "\n",
    "lr = LinearRegression(maxIter=5, regParam=0.0, labelCol='charges', solver='normal')\n",
    "mymodel = lr.fit(df_cleaned)\n",
    "predictions = mymodel.transform(df_cleaned)\n",
    "predictions.show()"
   ]
  },
  {
   "cell_type": "raw",
   "metadata": {},
   "source": [
    "### Evaluation of the Model"
   ]
  },
  {
   "cell_type": "code",
   "execution_count": 32,
   "metadata": {},
   "outputs": [
    {
     "data": {
      "text/plain": [
       "(77.78257121402335, 6050.128384664614)"
      ]
     },
     "execution_count": 32,
     "metadata": {},
     "output_type": "execute_result"
    }
   ],
   "source": [
    "#Evaluating the model using rmse value\n",
    "\n",
    "evaluator = RegressionEvaluator(labelCol='charges')\n",
    "rmse = evaluator.evaluate(predictions,{evaluator.metricName:'rmse'})\n",
    "\n",
    "np.sqrt(rmse), rmse"
   ]
  }
 ],
 "metadata": {
  "kernelspec": {
   "display_name": "Python 3",
   "language": "python",
   "name": "python3"
  },
  "language_info": {
   "codemirror_mode": {
    "name": "ipython",
    "version": 3
   },
   "file_extension": ".py",
   "mimetype": "text/x-python",
   "name": "python",
   "nbconvert_exporter": "python",
   "pygments_lexer": "ipython3",
   "version": "3.7.3"
  }
 },
 "nbformat": 4,
 "nbformat_minor": 2
}
